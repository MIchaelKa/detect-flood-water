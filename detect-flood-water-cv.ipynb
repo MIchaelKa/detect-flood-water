{
 "cells": [
  {
   "cell_type": "code",
   "execution_count": 1,
   "id": "mathematical-carrier",
   "metadata": {},
   "outputs": [
    {
     "name": "stdout",
     "output_type": "stream",
     "text": [
      "No GPU available, using the CPU instead.\n"
     ]
    }
   ],
   "source": [
    "import torch\n",
    "\n",
    "def get_device():\n",
    "    if torch.cuda.is_available():       \n",
    "        device = torch.device(\"cuda\")\n",
    "        print('There are %d GPU(s) available.' % torch.cuda.device_count())\n",
    "        print('We will use the GPU:', torch.cuda.get_device_name(0))\n",
    "    else:\n",
    "        device = torch.device(\"cpu\")\n",
    "        print('No GPU available, using the CPU instead.')\n",
    "\n",
    "    return device\n",
    "\n",
    "device = get_device()"
   ]
  },
  {
   "cell_type": "code",
   "execution_count": null,
   "id": "continent-spain",
   "metadata": {},
   "outputs": [],
   "source": [
    "from google.colab import drive\n",
    "drive.mount('/content/drive/')"
   ]
  },
  {
   "cell_type": "code",
   "execution_count": 2,
   "id": "violent-heater",
   "metadata": {},
   "outputs": [
    {
     "data": {
      "text/plain": [
       "False"
      ]
     },
     "execution_count": 2,
     "metadata": {},
     "output_type": "execute_result"
    }
   ],
   "source": [
    "import sys\n",
    "IN_COLAB = 'google.colab' in sys.modules\n",
    "IN_COLAB"
   ]
  },
  {
   "cell_type": "code",
   "execution_count": 3,
   "id": "stunning-bradley",
   "metadata": {},
   "outputs": [],
   "source": [
    "if IN_COLAB:\n",
    "    PATH_TO_DATA = '/content/'\n",
    "else:\n",
    "    PATH_TO_DATA = './data/'"
   ]
  },
  {
   "cell_type": "code",
   "execution_count": 9,
   "id": "developed-think",
   "metadata": {},
   "outputs": [],
   "source": [
    "import numpy as np"
   ]
  },
  {
   "cell_type": "code",
   "execution_count": 4,
   "id": "aerial-garbage",
   "metadata": {},
   "outputs": [],
   "source": [
    "import seaborn as sns\n",
    "import matplotlib.pyplot as plt\n",
    "\n",
    "sns.set()"
   ]
  },
  {
   "cell_type": "code",
   "execution_count": 5,
   "id": "individual-champagne",
   "metadata": {},
   "outputs": [],
   "source": [
    "# Some more magic so that the notebook will reload external python modules;\n",
    "# see http://stackoverflow.com/questions/1907993/autoreload-of-modules-in-ipython\n",
    "%load_ext autoreload\n",
    "%autoreload 2"
   ]
  },
  {
   "cell_type": "code",
   "execution_count": 13,
   "id": "third-median",
   "metadata": {},
   "outputs": [],
   "source": [
    "encoder_name = 'timm-efficientnet-b0'"
   ]
  },
  {
   "cell_type": "code",
   "execution_count": 38,
   "id": "incident-syracuse",
   "metadata": {},
   "outputs": [],
   "source": [
    "scheduler_params = dict(\n",
    "    name = 'MultiStepLR', # MultiStepLR OneCycleLR None\n",
    "\n",
    "    # MultiStepLR\n",
    "    milestones = [1, 2, 3],\n",
    "    gamma = 0.5,\n",
    ")\n",
    "\n",
    "debug_params = dict(\n",
    "    reduce_train=True,\n",
    "    train_number=20,\n",
    "    valid_number=4,\n",
    "\n",
    "    batch_size_train=2,\n",
    "    batch_size_valid=2,\n",
    "    max_iter=5,\n",
    "    unfreeze_iter=0,\n",
    "    valid_iters=[1, 3, 4],\n",
    "    \n",
    "    scheduler_params=scheduler_params,\n",
    "    \n",
    "    encoder_name = encoder_name,\n",
    "    save_model=True,\n",
    "    model_save_name='test_model',\n",
    ")"
   ]
  },
  {
   "cell_type": "code",
   "execution_count": 10,
   "id": "peripheral-kansas",
   "metadata": {},
   "outputs": [
    {
     "data": {
      "text/plain": [
       "[29, 59, 89, 119, 149, 179, 209, 239, 269, 299, 329, 359, 389, 419, 449, 479]"
      ]
     },
     "execution_count": 10,
     "metadata": {},
     "output_type": "execute_result"
    }
   ],
   "source": [
    "max_iter=480\n",
    "valid_step=30\n",
    "unfreeze_iter=0 # 90\n",
    "\n",
    "valid_iters = list(np.arange(valid_step-1, max_iter, valid_step))\n",
    "valid_iters"
   ]
  },
  {
   "cell_type": "code",
   "execution_count": 15,
   "id": "connected-dakota",
   "metadata": {},
   "outputs": [],
   "source": [
    "scheduler_params = dict(\n",
    "    name = 'None', # MultiStepLR OneCycleLR None\n",
    "\n",
    "    # MultiStepLR\n",
    "    milestones = [300],\n",
    "    gamma = 0.4,\n",
    "    \n",
    "    # OneCycleLR\n",
    "    max_lr = 0.3,\n",
    "    pct_start = 0.3,\n",
    ")\n",
    "\n",
    "full_params = dict(\n",
    "    reduce_train=False,\n",
    "    train_number=0,\n",
    "    valid_number=0,\n",
    "    \n",
    "    batch_size_train=32,\n",
    "    batch_size_valid=32,\n",
    "    max_iter=max_iter,\n",
    "    unfreeze_iter=unfreeze_iter,\n",
    "    # valid_iters=valid_iters\n",
    "    \n",
    "    scheduler_params=scheduler_params,\n",
    "    \n",
    "    encoder_name=encoder_name,\n",
    "    save_model=True,\n",
    "    model_save_name=f'unet_{encoder_name}_V2_10.09'\n",
    ")"
   ]
  },
  {
   "cell_type": "code",
   "execution_count": 39,
   "id": "clean-cement",
   "metadata": {},
   "outputs": [],
   "source": [
    "params = dict(\n",
    "    path_to_data=PATH_TO_DATA,\n",
    "\n",
    "    optimizer_name='Adam',\n",
    "    learning_rate=3e-4, # 5e-4, 3e-4, 1e-3\n",
    "    weight_decay=0,\n",
    "\n",
    "    verbose=True\n",
    ")\n",
    "\n",
    "params.update(debug_params) # full_params, debug_params"
   ]
  },
  {
   "cell_type": "code",
   "execution_count": 40,
   "id": "linear-carrier",
   "metadata": {},
   "outputs": [
    {
     "data": {
      "text/plain": [
       "{'path_to_data': './data/',\n",
       " 'optimizer_name': 'Adam',\n",
       " 'learning_rate': 0.0003,\n",
       " 'weight_decay': 0,\n",
       " 'verbose': True,\n",
       " 'reduce_train': True,\n",
       " 'train_number': 20,\n",
       " 'valid_number': 4,\n",
       " 'batch_size_train': 2,\n",
       " 'batch_size_valid': 2,\n",
       " 'max_iter': 5,\n",
       " 'unfreeze_iter': 0,\n",
       " 'valid_iters': [1, 3, 4],\n",
       " 'scheduler_params': {'name': 'MultiStepLR',\n",
       "  'milestones': [1, 2, 3],\n",
       "  'gamma': 0.5},\n",
       " 'encoder_name': 'timm-efficientnet-b0',\n",
       " 'save_model': True,\n",
       " 'model_save_name': 'test_model'}"
      ]
     },
     "execution_count": 40,
     "metadata": {},
     "output_type": "execute_result"
    }
   ],
   "source": [
    "params"
   ]
  },
  {
   "cell_type": "code",
   "execution_count": 41,
   "id": "finnish-stroke",
   "metadata": {},
   "outputs": [],
   "source": [
    "from main import run_cv"
   ]
  },
  {
   "cell_type": "code",
   "execution_count": 42,
   "id": "contemporary-relay",
   "metadata": {},
   "outputs": [
    {
     "name": "stdout",
     "output_type": "stream",
     "text": [
      "[run_cv]\n",
      "\n",
      "[data] fold: 0, flood_ids: ['kuo', 'tht', 'qus']\n",
      "[data] Dataset size, train: 417, valid: 125, ratio: 23.062730627306273\n",
      "[data] Reduced dataset size, train: 20, valid: 4\n",
      "[data] DataLoader size, train: 10, valid: 2\n",
      "[data] num_epoch: 0.5, num_train_samples: 10\n",
      "[train] started...\n",
      "[train] iter:    1, loss = 0.79472, score = 0.39158, time: 0:00:06\n",
      "[valid] iter:    1, loss = 0.04835, score = 0.00000, time: 0:00:06\n",
      "[valid] iter:    1, score = {'kuo': 0.0}\n",
      "\n",
      "[train] iter:    3, loss = 0.76037, score = 0.25344, time: 0:00:12\n",
      "[valid] iter:    3, loss = 0.04290, score = 0.00000, time: 0:00:12\n",
      "[valid] iter:    3, score = {'kuo': 0.0}\n",
      "\n",
      "[train] iter:    4, loss = 0.75075, score = 0.24698, time: 0:00:17\n",
      "[valid] iter:    4, loss = 0.04615, score = 0.00000, time: 0:00:17\n",
      "[valid] iter:    4, score = {'kuo': 0.0}\n",
      "\n",
      "[valid] best score = 0.00000, iter:    0\n",
      "[train] finished for: 0:00:17\n",
      "\n",
      "[data] fold: 1, flood_ids: ['hxu', 'hbe', 'awc']\n",
      "[data] Dataset size, train: 432, valid: 110, ratio: 20.29520295202952\n",
      "[data] Reduced dataset size, train: 20, valid: 4\n",
      "[data] DataLoader size, train: 10, valid: 2\n",
      "[data] num_epoch: 0.5, num_train_samples: 10\n",
      "[train] started...\n",
      "[train] iter:    1, loss = 0.89583, score = 0.30248, time: 0:00:06\n",
      "[valid] iter:    1, loss = 0.92049, score = 0.12174, time: 0:00:06\n",
      "[valid] iter:    1, score = {'awc': 0.12174387276172638}\n",
      "\n",
      "[train] iter:    3, loss = 0.88962, score = 0.24347, time: 0:00:13\n",
      "[valid] iter:    3, loss = 0.65403, score = 0.14641, time: 0:00:13\n",
      "[valid] iter:    3, score = {'awc': 0.14641498029232025}\n",
      "\n",
      "[train] iter:    4, loss = 0.87466, score = 0.24625, time: 0:00:18\n",
      "[valid] iter:    4, loss = 0.56721, score = 0.21254, time: 0:00:18\n",
      "[valid] iter:    4, score = {'awc': 0.21254059672355652}\n",
      "\n",
      "[valid] best score = 0.21254, iter:    4\n",
      "[train] finished for: 0:00:18\n",
      "\n",
      "[data] fold: 2, flood_ids: ['tnp', 'wvy', 'qxb']\n",
      "[data] Dataset size, train: 415, valid: 127, ratio: 23.43173431734317\n",
      "[data] Reduced dataset size, train: 20, valid: 4\n",
      "[data] DataLoader size, train: 10, valid: 2\n",
      "[data] num_epoch: 0.5, num_train_samples: 10\n",
      "[train] started...\n",
      "[train] iter:    1, loss = 0.99741, score = 0.21613, time: 0:00:06\n",
      "[valid] iter:    1, loss = 1.76093, score = 0.03547, time: 0:00:06\n",
      "[valid] iter:    1, score = {'qxb': 0.03547162190079689}\n",
      "\n",
      "[train] iter:    3, loss = 1.03764, score = 0.16758, time: 0:00:12\n",
      "[valid] iter:    3, loss = 1.19339, score = 0.03547, time: 0:00:12\n",
      "[valid] iter:    3, score = {'qxb': 0.03546623885631561}\n",
      "\n",
      "[train] iter:    4, loss = 1.04451, score = 0.14323, time: 0:00:17\n",
      "[valid] iter:    4, loss = 1.06271, score = 0.03539, time: 0:00:17\n",
      "[valid] iter:    4, score = {'qxb': 0.0353890061378479}\n",
      "\n",
      "[valid] best score = 0.03547, iter:    1\n",
      "[train] finished for: 0:00:17\n",
      "\n",
      "[data] fold: 3, flood_ids: ['pxs', 'ayt', 'coz', 'jja']\n",
      "[data] Dataset size, train: 362, valid: 180, ratio: 33.210332103321036\n",
      "[data] Reduced dataset size, train: 20, valid: 4\n",
      "[data] DataLoader size, train: 10, valid: 2\n",
      "[data] num_epoch: 0.5, num_train_samples: 10\n",
      "[train] started...\n",
      "[train] iter:    1, loss = 0.93341, score = 0.12020, time: 0:00:06\n",
      "[valid] iter:    1, loss = 1.63119, score = 0.40958, time: 0:00:06\n",
      "[valid] iter:    1, score = {'ayt': 0.40958142280578613}\n",
      "\n",
      "[train] iter:    3, loss = 0.88919, score = 0.10026, time: 0:00:12\n",
      "[valid] iter:    3, loss = 1.83551, score = 0.41080, time: 0:00:12\n",
      "[valid] iter:    3, score = {'ayt': 0.41079646348953247}\n",
      "\n",
      "[train] iter:    4, loss = 0.88028, score = 0.08667, time: 0:00:17\n",
      "[valid] iter:    4, loss = 1.91229, score = 0.41067, time: 0:00:17\n",
      "[valid] iter:    4, score = {'ayt': 0.4106694161891937}\n",
      "\n",
      "[valid] best score = 0.41080, iter:    3\n",
      "[train] finished for: 0:00:17\n",
      "\n",
      "[run_cv] results: [0.         0.2125406  0.03547162 0.41079646]\n",
      "[run_cv] mean: 0.16470217052847147, std: 0.16330818696886154\n",
      "[run_cv] finished for: 0:01:10\n"
     ]
    }
   ],
   "source": [
    "train_infos = run_cv(device, **params)"
   ]
  },
  {
   "cell_type": "code",
   "execution_count": 30,
   "id": "indonesian-lingerie",
   "metadata": {},
   "outputs": [
    {
     "data": {
      "text/plain": [
       "4"
      ]
     },
     "execution_count": 30,
     "metadata": {},
     "output_type": "execute_result"
    }
   ],
   "source": [
    "len(train_infos)"
   ]
  },
  {
   "cell_type": "code",
   "execution_count": 33,
   "id": "warming-correlation",
   "metadata": {},
   "outputs": [],
   "source": [
    "from plot_utils import show_train_metrics, show_loss_and_score, show_valid_score_by_flood"
   ]
  },
  {
   "cell_type": "code",
   "execution_count": 34,
   "id": "entire-modification",
   "metadata": {},
   "outputs": [],
   "source": [
    "train_info = train_infos[0]"
   ]
  },
  {
   "cell_type": "code",
   "execution_count": 35,
   "id": "fuzzy-description",
   "metadata": {},
   "outputs": [
    {
     "data": {
      "image/png": "[encoded data removed]",
      "text/plain": [
       "<Figure size 1080x360 with 2 Axes>"
      ]
     },
     "metadata": {},
     "output_type": "display_data"
    }
   ],
   "source": [
    "show_loss_and_score(train_info)"
   ]
  },
  {
   "cell_type": "code",
   "execution_count": 36,
   "id": "better-benefit",
   "metadata": {},
   "outputs": [
    {
     "ename": "TypeError",
     "evalue": "'function' object is not subscriptable",
     "output_type": "error",
     "traceback": [
      "\u001b[0;31m---------------------------------------------------------------------------\u001b[0m",
      "\u001b[0;31mTypeError\u001b[0m                                 Traceback (most recent call last)",
      "\u001b[0;32m<ipython-input-36-c50a7aba67c2>\u001b[0m in \u001b[0;36m<module>\u001b[0;34m\u001b[0m\n\u001b[0;32m----> 1\u001b[0;31m \u001b[0mshow_loss_and_score\u001b[0m\u001b[0;34m(\u001b[0m\u001b[0mshow_valid_score_by_flood\u001b[0m\u001b[0;34m)\u001b[0m\u001b[0;34m\u001b[0m\u001b[0;34m\u001b[0m\u001b[0m\n\u001b[0m",
      "\u001b[0;32m~/Developer/ml/projects/detect-flood-water/plot_utils.py\u001b[0m in \u001b[0;36mshow_loss_and_score\u001b[0;34m(train_info, start_from)\u001b[0m\n\u001b[1;32m    273\u001b[0m     \u001b[0m_\u001b[0m\u001b[0;34m,\u001b[0m \u001b[0maxes\u001b[0m \u001b[0;34m=\u001b[0m \u001b[0mplt\u001b[0m\u001b[0;34m.\u001b[0m\u001b[0msubplots\u001b[0m\u001b[0;34m(\u001b[0m\u001b[0;36m1\u001b[0m\u001b[0;34m,\u001b[0m \u001b[0;36m2\u001b[0m\u001b[0;34m,\u001b[0m \u001b[0mfigsize\u001b[0m\u001b[0;34m=\u001b[0m\u001b[0;34m(\u001b[0m\u001b[0;36m15\u001b[0m\u001b[0;34m,\u001b[0m\u001b[0;36m5\u001b[0m\u001b[0;34m)\u001b[0m\u001b[0;34m)\u001b[0m\u001b[0;34m\u001b[0m\u001b[0;34m\u001b[0m\u001b[0m\n\u001b[1;32m    274\u001b[0m \u001b[0;34m\u001b[0m\u001b[0m\n\u001b[0;32m--> 275\u001b[0;31m     \u001b[0mvalid_iters\u001b[0m \u001b[0;34m=\u001b[0m \u001b[0mtrain_info\u001b[0m\u001b[0;34m[\u001b[0m\u001b[0;34m'valid_iters'\u001b[0m\u001b[0;34m]\u001b[0m\u001b[0;34m[\u001b[0m\u001b[0mstart_from\u001b[0m\u001b[0;34m:\u001b[0m\u001b[0;34m]\u001b[0m\u001b[0;34m\u001b[0m\u001b[0;34m\u001b[0m\u001b[0m\n\u001b[0m\u001b[1;32m    276\u001b[0m \u001b[0;34m\u001b[0m\u001b[0m\n\u001b[1;32m    277\u001b[0m     \u001b[0maxes\u001b[0m\u001b[0;34m[\u001b[0m\u001b[0;36m0\u001b[0m\u001b[0;34m]\u001b[0m\u001b[0;34m.\u001b[0m\u001b[0mset_title\u001b[0m\u001b[0;34m(\u001b[0m\u001b[0;34m\"Loss\"\u001b[0m\u001b[0;34m)\u001b[0m\u001b[0;34m\u001b[0m\u001b[0;34m\u001b[0m\u001b[0m\n",
      "\u001b[0;31mTypeError\u001b[0m: 'function' object is not subscriptable"
     ]
    },
    {
     "data": {
      "image/png": "[encoded data removed]",
      "text/plain": [
       "<Figure size 1080x360 with 2 Axes>"
      ]
     },
     "metadata": {},
     "output_type": "display_data"
    }
   ],
   "source": [
    "show_loss_and_score(show_valid_score_by_flood)"
   ]
  },
  {
   "cell_type": "code",
   "execution_count": 43,
   "id": "transparent-think",
   "metadata": {},
   "outputs": [],
   "source": [
    "# loss_meter = train_info['train_loss_meter']\n",
    "# score_meter = train_info['train_score_meter']\n",
    "# show_train_metrics(loss_meter, score_meter)"
   ]
  },
  {
   "cell_type": "code",
   "execution_count": null,
   "id": "essential-recognition",
   "metadata": {},
   "outputs": [],
   "source": []
  }
 ],
 "metadata": {
  "kernelspec": {
   "display_name": "Python 3",
   "language": "python",
   "name": "python3"
  },
  "language_info": {
   "codemirror_mode": {
    "name": "ipython",
    "version": 3
   },
   "file_extension": ".py",
   "mimetype": "text/x-python",
   "name": "python",
   "nbconvert_exporter": "python",
   "pygments_lexer": "ipython3",
   "version": "3.8.2"
  }
 },
 "nbformat": 4,
 "nbformat_minor": 5
}
